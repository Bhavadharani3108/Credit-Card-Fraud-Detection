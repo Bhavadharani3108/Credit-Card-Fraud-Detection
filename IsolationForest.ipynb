{
 "cells": [
  {
   "cell_type": "code",
   "execution_count": 3,
   "metadata": {},
   "outputs": [
    {
     "name": "stdout",
     "output_type": "stream",
     "text": [
      "\n",
      "Dimension\n",
      "(284807, 31)\n",
      "\n",
      "First Five Lines \n",
      "   Time        V1        V2        V3        V4        V5        V6        V7  \\\n",
      "0   0.0 -1.359807 -0.072781  2.536347  1.378155 -0.338321  0.462388  0.239599   \n",
      "1   0.0  1.191857  0.266151  0.166480  0.448154  0.060018 -0.082361 -0.078803   \n",
      "2   1.0 -1.358354 -1.340163  1.773209  0.379780 -0.503198  1.800499  0.791461   \n",
      "3   1.0 -0.966272 -0.185226  1.792993 -0.863291 -0.010309  1.247203  0.237609   \n",
      "4   2.0 -1.158233  0.877737  1.548718  0.403034 -0.407193  0.095921  0.592941   \n",
      "\n",
      "         V8        V9  ...       V21       V22       V23       V24       V25  \\\n",
      "0  0.098698  0.363787  ... -0.018307  0.277838 -0.110474  0.066928  0.128539   \n",
      "1  0.085102 -0.255425  ... -0.225775 -0.638672  0.101288 -0.339846  0.167170   \n",
      "2  0.247676 -1.514654  ...  0.247998  0.771679  0.909412 -0.689281 -0.327642   \n",
      "3  0.377436 -1.387024  ... -0.108300  0.005274 -0.190321 -1.175575  0.647376   \n",
      "4 -0.270533  0.817739  ... -0.009431  0.798278 -0.137458  0.141267 -0.206010   \n",
      "\n",
      "        V26       V27       V28  Amount  Class  \n",
      "0 -0.189115  0.133558 -0.021053  149.62      0  \n",
      "1  0.125895 -0.008983  0.014724    2.69      0  \n",
      "2 -0.139097 -0.055353 -0.059752  378.66      0  \n",
      "3 -0.221929  0.062723  0.061458  123.50      0  \n",
      "4  0.502292  0.219422  0.215153   69.99      0  \n",
      "\n",
      "[5 rows x 31 columns]\n"
     ]
    }
   ],
   "source": [
    "import numpy as np\n",
    "import pandas as pd\n",
    "import sklearn\n",
    "import scipy\n",
    "import matplotlib.pyplot as plt\n",
    "import seaborn as sns\n",
    "from sklearn.preprocessing import StandardScaler\n",
    "from sklearn.metrics import classification_report,accuracy_score\n",
    "from sklearn.ensemble import IsolationForest\n",
    "from sklearn.metrics import confusion_matrix,auc,roc_auc_score\n",
    "from sklearn.metrics import recall_score,precision_score,accuracy_score,f1_score\n",
    "#Data Handling: Load dataset (CSV file)\n",
    "df = pd.read_csv(\"creditcard.csv\")\n",
    "#List of features, data shape, statical description\n",
    "print(\"\\nDimension\")\n",
    "print(df.shape)\n",
    "\n",
    "print(\"\\nFirst Five Lines \")\n",
    "print(df.head(5))"
   ]
  },
  {
   "cell_type": "code",
   "execution_count": 4,
   "metadata": {},
   "outputs": [
    {
     "data": {
      "text/plain": [
       "Time      0\n",
       "V1        0\n",
       "V2        0\n",
       "V3        0\n",
       "V4        0\n",
       "V5        0\n",
       "V6        0\n",
       "V7        0\n",
       "V8        0\n",
       "V9        0\n",
       "V10       0\n",
       "V11       0\n",
       "V12       0\n",
       "V13       0\n",
       "V14       0\n",
       "V15       0\n",
       "V16       0\n",
       "V17       0\n",
       "V18       0\n",
       "V19       0\n",
       "V20       0\n",
       "V21       0\n",
       "V22       0\n",
       "V23       0\n",
       "V24       0\n",
       "V25       0\n",
       "V26       0\n",
       "V27       0\n",
       "V28       0\n",
       "Amount    0\n",
       "Class     0\n",
       "dtype: int64"
      ]
     },
     "execution_count": 4,
     "metadata": {},
     "output_type": "execute_result"
    }
   ],
   "source": [
    "df.isnull().sum()"
   ]
  },
  {
   "cell_type": "code",
   "execution_count": 5,
   "metadata": {},
   "outputs": [
    {
     "data": {
      "text/plain": [
       "0    284315\n",
       "1       492\n",
       "Name: Class, dtype: int64"
      ]
     },
     "execution_count": 5,
     "metadata": {},
     "output_type": "execute_result"
    }
   ],
   "source": [
    "df['Class'].value_counts()"
   ]
  },
  {
   "cell_type": "code",
   "execution_count": 6,
   "metadata": {},
   "outputs": [
    {
     "data": {
      "text/plain": [
       "Text(0, 0.5, 'Frequency')"
      ]
     },
     "execution_count": 6,
     "metadata": {},
     "output_type": "execute_result"
    },
    {
     "data": {
      "image/png": "[encoded data removed]",
      "text/plain": [
       "<Figure size 432x288 with 1 Axes>"
      ]
     },
     "metadata": {
      "needs_background": "light"
     },
     "output_type": "display_data"
    }
   ],
   "source": [
    "count_class = df['Class'].value_counts(sort = True)\n",
    "count_class.plot(kind='bar', rot=0)\n",
    "plt.title(\"Transaction Class Distribution\")\n",
    "labels = [\"Normal\",\"Fraud\"]\n",
    "plt.xticks(range(2),labels)\n",
    "plt.xlabel(\"Class\")\n",
    "plt.ylabel(\"Frequency\")"
   ]
  },
  {
   "cell_type": "code",
   "execution_count": 5,
   "metadata": {},
   "outputs": [],
   "source": [
    "#Normalization\n",
    "#scaler = StandardScaler()\n",
    "#df['NormalizedAmount'] = scaler.fit_transform(df['Amount'].values.reshape(-1, 1))"
   ]
  },
  {
   "cell_type": "code",
   "execution_count": 7,
   "metadata": {},
   "outputs": [
    {
     "name": "stdout",
     "output_type": "stream",
     "text": [
      "0.0017304750013189597\n"
     ]
    }
   ],
   "source": [
    "fraud = df[df['Class'] == 1] # Number of fraudulent transactions\n",
    "valid = df[df['Class'] == 0] # Number of valid transactions\n",
    "outlier_fraction = len(fraud)/float(len(valid))\n",
    "print(outlier_fraction)"
   ]
  },
  {
   "cell_type": "code",
   "execution_count": 8,
   "metadata": {},
   "outputs": [
    {
     "name": "stdout",
     "output_type": "stream",
     "text": [
      "(284807, 30)\n",
      "(284807,)\n"
     ]
    }
   ],
   "source": [
    "#df1 = df\n",
    "#columns = df1.columns.tolist()\n",
    "#columns = [c for c in columns if c not in [\"Class\"]]\n",
    "#target = \"Class\"\n",
    "state = np.random.RandomState(42)\n",
    "X = df.drop(['Class'],axis=1) # X is input\n",
    "y = df['Class'] # y is output\n",
    "print(X.shape)\n",
    "print(y.shape)\n",
    "X_data = X.values\n",
    "y_data = y.values"
   ]
  },
  {
   "cell_type": "code",
   "execution_count": 9,
   "metadata": {},
   "outputs": [],
   "source": [
    "from sklearn.model_selection import train_test_split\n",
    "X_train, X_test, y_train, y_test = train_test_split(X_data, y_data, test_size = 0.2, random_state = 42)"
   ]
  },
  {
   "cell_type": "code",
   "execution_count": 10,
   "metadata": {},
   "outputs": [],
   "source": [
    "#Building another model/classifier ISOLATION FOREST\n",
    "from sklearn.ensemble import IsolationForest\n",
    "ifc=IsolationForest(max_samples=len(X_train),contamination=outlier_fraction,random_state=1)\n",
    "ifc.fit(X_train)\n",
    "scores_pred = ifc.decision_function(X_train)\n",
    "y_pred = ifc.predict(X_test)"
   ]
  },
  {
   "cell_type": "code",
   "execution_count": 11,
   "metadata": {},
   "outputs": [
    {
     "name": "stdout",
     "output_type": "stream",
     "text": [
      "\n",
      "Errors:  117\n"
     ]
    }
   ],
   "source": [
    "# Reshape the prediction values to 0 for valid, 1 for fraud. \n",
    "y_pred[y_pred == 1] = 0\n",
    "y_pred[y_pred == -1] = 1\n",
    "n_errors = (y_pred != y_test).sum()\n",
    "print(\"\\nErrors: \",n_errors)"
   ]
  },
  {
   "cell_type": "code",
   "execution_count": 12,
   "metadata": {
    "scrolled": true
   },
   "outputs": [
    {
     "name": "stdout",
     "output_type": "stream",
     "text": [
      "[[56812    52]\n",
      " [   65    33]]\n"
     ]
    },
    {
     "data": {
      "image/png": "[encoded data removed]",
      "text/plain": [
       "<Figure size 360x360 with 2 Axes>"
      ]
     },
     "metadata": {
      "needs_background": "light"
     },
     "output_type": "display_data"
    }
   ],
   "source": [
    "#printing the confusion matrix\n",
    "LABELS = ['Genuine', 'Fraud']\n",
    "conf_matrix = confusion_matrix(y_test, y_pred)\n",
    "print(conf_matrix)\n",
    "plt.figure(figsize=(5, 5))\n",
    "sns.heatmap(conf_matrix, xticklabels=LABELS, yticklabels=LABELS, annot=True, fmt='d');\n",
    "plt.title('Confusion matrix')\n",
    "plt.ylabel('True class')\n",
    "plt.xlabel('Predicted class')\n",
    "plt.show()"
   ]
  },
  {
   "cell_type": "code",
   "execution_count": 13,
   "metadata": {},
   "outputs": [
    {
     "name": "stdout",
     "output_type": "stream",
     "text": [
      "The Model used is Isolation Forest\n",
      "The accuracy is 0.9979459990871107\n",
      "The precision is 0.38823529411764707\n",
      "The recall is 0.336734693877551\n",
      "The F1-Score is 0.36065573770491804\n"
     ]
    }
   ],
   "source": [
    "#evaluation of the model\n",
    "#printing every score of the classifier\n",
    "#scoring in any thing\n",
    "from sklearn.metrics import confusion_matrix\n",
    "n_outliers = len(fraud)\n",
    "print('The Model used is {}'.format('Isolation Forest'))\n",
    "acc= accuracy_score(y_test,y_pred)\n",
    "print('The accuracy is {}'.format(acc))\n",
    "prec= precision_score(y_test,y_pred)\n",
    "print('The precision is {}'.format(prec))\n",
    "rec= recall_score(y_test,y_pred)\n",
    "print('The recall is {}'.format(rec))\n",
    "f1= f1_score(y_test,y_pred)\n",
    "print('The F1-Score is {}'.format(f1))"
   ]
  },
  {
   "cell_type": "code",
   "execution_count": 14,
   "metadata": {},
   "outputs": [
    {
     "name": "stdout",
     "output_type": "stream",
     "text": [
      "0.336734693877551\n",
      "0.38823529411764707\n"
     ]
    }
   ],
   "source": [
    "TN = conf_matrix[0,0]\n",
    "FP = conf_matrix[0,1] \n",
    "FN = conf_matrix[1,0]\n",
    "TP = conf_matrix[1,1]\n",
    "recall = TP/(TP+FN)\n",
    "precision = TP/(TP+FP)\n",
    "print(recall)\n",
    "print(precision)"
   ]
  },
  {
   "cell_type": "code",
   "execution_count": 13,
   "metadata": {
    "scrolled": true
   },
   "outputs": [
    {
     "data": {
      "text/plain": [
       "'#Only X & Y\\nmodel = IsolationForest(n_estimators=100,max_samples = len(X),contamination = outlier_fraction,random_state=state,verbose=0).fit(X) # Fitting the model.\\ny_prediction2 = model.predict(X) # Prediction using trained model.\\ny_prediction2[y_prediction2 == 1] = 0 # Valid transactions are labelled as 0.\\ny_prediction2[y_prediction2 == -1] = 1 # Fraudulent transactions are labelled as 1.\\nerror = (y_prediction2 != y).sum() # Total number of errors is calculated.\\nprint(\"ISOLATION FOREST\")\\nprint(\"\\nError Count: \",error)\\nprint(\"\\nAccuracy Score: \",accuracy_score(y_prediction2,y))\\nprint(\"\\nRecall Score: \",recall_score(y_prediction2,y))\\nprint(\"\\nPrecision Score: \",precision_score(y_prediction2,y))\\nprint(\"\\nF1 Score: \", f1_score(y_prediction2,y))\\n#print(classification_report(y_prediction2,y))\\n\\nlabels =[\\'Genuine\\',\\'Fraud\\']\\nconf_matrix = confusion_matrix(y_prediction2,y)\\nplt.figure(figsize=(5,5))\\nsns.heatmap(conf_matrix,xticklabels= labels, yticklabels= labels, annot=True,fmt=\\'d\\')\\nplt.title(\"Isolation Forest - Confusion Matrix\")\\nplt.ylabel(\\'True Value\\') \\nplt.xlabel(\\'Predicted Value\\') \\nplt.show()'"
      ]
     },
     "execution_count": 13,
     "metadata": {},
     "output_type": "execute_result"
    }
   ],
   "source": [
    "'''#Only X & Y\n",
    "model = IsolationForest(n_estimators=100,max_samples = len(X),contamination = outlier_fraction,random_state=state,verbose=0).fit(X) # Fitting the model.\n",
    "y_prediction2 = model.predict(X) # Prediction using trained model.\n",
    "y_prediction2[y_prediction2 == 1] = 0 # Valid transactions are labelled as 0.\n",
    "y_prediction2[y_prediction2 == -1] = 1 # Fraudulent transactions are labelled as 1.\n",
    "error = (y_prediction2 != y).sum() # Total number of errors is calculated.\n",
    "print(\"ISOLATION FOREST\")\n",
    "print(\"\\nError Count: \",error)\n",
    "print(\"\\nAccuracy Score: \",accuracy_score(y_prediction2,y))\n",
    "print(\"\\nRecall Score: \",recall_score(y_prediction2,y))\n",
    "print(\"\\nPrecision Score: \",precision_score(y_prediction2,y))\n",
    "print(\"\\nF1 Score: \", f1_score(y_prediction2,y))\n",
    "#print(classification_report(y_prediction2,y))\n",
    "\n",
    "labels =['Genuine','Fraud']\n",
    "conf_matrix = confusion_matrix(y_prediction2,y)\n",
    "plt.figure(figsize=(5,5))\n",
    "sns.heatmap(conf_matrix,xticklabels= labels, yticklabels= labels, annot=True,fmt='d')\n",
    "plt.title(\"Isolation Forest - Confusion Matrix\")\n",
    "plt.ylabel('True Value') \n",
    "plt.xlabel('Predicted Value') \n",
    "plt.show()'''"
   ]
  },
  {
   "cell_type": "markdown",
   "metadata": {},
   "source": [
    "RESAMPLING TECHNIQUES\n",
    "--\n",
    "\n",
    "RANDOM UNDERSAMPLING TECHNIQUE\n",
    "--"
   ]
  },
  {
   "cell_type": "code",
   "execution_count": 14,
   "metadata": {},
   "outputs": [],
   "source": [
    "#pip install imblearn"
   ]
  },
  {
   "cell_type": "code",
   "execution_count": 15,
   "metadata": {},
   "outputs": [],
   "source": [
    "from imblearn import under_sampling, over_sampling\n",
    "from imblearn.over_sampling import SMOTE, ADASYN\n",
    "from imblearn.under_sampling import RandomUnderSampler\n",
    "from collections import Counter # counter takes values returns value_counts dictionary\n",
    "from sklearn.datasets import make_classification"
   ]
  },
  {
   "cell_type": "code",
   "execution_count": 16,
   "metadata": {},
   "outputs": [
    {
     "name": "stdout",
     "output_type": "stream",
     "text": [
      "X_train -  (227845, 30)\n",
      "y_train -  (227845,)\n",
      "X_test -  (56962, 30)\n",
      "y_test -  (56962,)\n"
     ]
    }
   ],
   "source": [
    "# Split BEFORE any sampling - prevent data leakage\n",
    "X_train, X_test, y_train, y_test = train_test_split(X_data, y_data, test_size=0.2,shuffle=True, random_state=42)\n",
    "print(\"X_train - \",X_train.shape)\n",
    "print(\"y_train - \",y_train.shape)\n",
    "print(\"X_test - \",X_test.shape)\n",
    "print(\"y_test - \",y_test.shape)"
   ]
  },
  {
   "cell_type": "code",
   "execution_count": 17,
   "metadata": {},
   "outputs": [
    {
     "name": "stdout",
     "output_type": "stream",
     "text": [
      "Original dataset shape Counter({0: 227451, 1: 394})\n",
      "Resampled dataset shape Counter({0: 394, 1: 394})\n",
      "X_train -  (788, 30)\n",
      "y_train -  (788,)\n",
      "X_test -  (56962, 30)\n",
      "y_test -  (56962,)\n"
     ]
    }
   ],
   "source": [
    "# Undersampling only on train\n",
    "\n",
    "print('Original dataset shape %s' % Counter(y_train))\n",
    "random_state = 42\n",
    "\n",
    "rus = RandomUnderSampler(random_state=random_state)\n",
    "X_res, y_res = rus.fit_resample(X_train, y_train)\n",
    "\n",
    "print('Resampled dataset shape %s' % Counter(y_res))\n",
    "\n",
    "X_train = X_res\n",
    "y_train = y_res\n",
    "\n",
    "print(\"X_train - \",X_train.shape)\n",
    "print(\"y_train - \",y_train.shape)\n",
    "print(\"X_test - \",X_test.shape)\n",
    "print(\"y_test - \",y_test.shape)"
   ]
  },
  {
   "cell_type": "code",
   "execution_count": 108,
   "metadata": {},
   "outputs": [
    {
     "data": {
      "text/plain": [
       "\"b = IsolationForest(max_samples = len(X_train),contamination = outlier_fraction).fit(X_train) # Fitting the model.\\ny_prediction2 = b.predict(X_test) \\ny_prediction2[y_prediction2 == 1] = 0 \\ny_prediction2[y_prediction2 == -1] = 1\\nerrors2 = (y_prediction2 != y_test).sum()\\nprint(errors2)\\nprint(confusion_matrix(y_test,y_prediction2))\\nprint(accuracy_score(y_prediction2,y_test))\\nprec= precision_score(y_test,y_prediction2)\\nprint('The precision is {}'.format(prec))\\nrec= recall_score(y_test,y_prediction2)\\nprint('The recall is {}'.format(rec))\\nf1= f1_score(y_test,y_prediction2)\\nprint('The F1-Score is {}'.format(f1))\\nprint(classification_report(y_prediction2,y_test))\""
      ]
     },
     "execution_count": 108,
     "metadata": {},
     "output_type": "execute_result"
    }
   ],
   "source": [
    "'''b = IsolationForest(max_samples = len(X_train),contamination = outlier_fraction).fit(X_train) # Fitting the model.\n",
    "y_prediction2 = b.predict(X_test) \n",
    "y_prediction2[y_prediction2 == 1] = 0 \n",
    "y_prediction2[y_prediction2 == -1] = 1\n",
    "errors2 = (y_prediction2 != y_test).sum()\n",
    "print(errors2)\n",
    "print(confusion_matrix(y_test,y_prediction2))\n",
    "print(accuracy_score(y_prediction2,y_test))\n",
    "prec= precision_score(y_test,y_prediction2)\n",
    "print('The precision is {}'.format(prec))\n",
    "rec= recall_score(y_test,y_prediction2)\n",
    "print('The recall is {}'.format(rec))\n",
    "f1= f1_score(y_test,y_prediction2)\n",
    "print('The F1-Score is {}'.format(f1))\n",
    "print(classification_report(y_prediction2,y_test))'''"
   ]
  },
  {
   "cell_type": "code",
   "execution_count": 18,
   "metadata": {},
   "outputs": [
    {
     "name": "stdout",
     "output_type": "stream",
     "text": [
      "101\n"
     ]
    }
   ],
   "source": [
    "#Under Sampling with Isolation Forest\n",
    "model = IsolationForest(max_samples=len(X_train),contamination=outlier_fraction,random_state=1)\n",
    "model.fit(X_train,y_train)\n",
    "scores1_pred = model.decision_function(X_train)\n",
    "y_pred = model.predict(X_test)\n",
    "# Reshape the prediction values to 0 for valid, 1 for fraud. \n",
    "y_pred[y_pred == 1] = 0\n",
    "y_pred[y_pred == -1] = 1\n",
    "errors = (y_pred != y_test).sum()\n",
    "print(errors)"
   ]
  },
  {
   "cell_type": "code",
   "execution_count": 19,
   "metadata": {},
   "outputs": [
    {
     "name": "stdout",
     "output_type": "stream",
     "text": [
      "[[56860     4]\n",
      " [   97     1]]\n"
     ]
    },
    {
     "data": {
      "image/png": "[encoded data removed]",
      "text/plain": [
       "<Figure size 360x360 with 2 Axes>"
      ]
     },
     "metadata": {
      "needs_background": "light"
     },
     "output_type": "display_data"
    }
   ],
   "source": [
    "#Visualization of Confusion matrix\n",
    "LABELS = ['Genuine', 'Fraud']\n",
    "conf_matrix = confusion_matrix(y_test,y_pred)\n",
    "print(conf_matrix)\n",
    "plt.figure(figsize=(5, 5))\n",
    "sns.heatmap(conf_matrix, xticklabels=LABELS, yticklabels=LABELS, annot=True, fmt='d');\n",
    "plt.title('UnderSampling - Confusion matrix')\n",
    "plt.ylabel('True class')\n",
    "plt.xlabel('Predicted class')\n",
    "plt.show()"
   ]
  },
  {
   "cell_type": "code",
   "execution_count": 20,
   "metadata": {},
   "outputs": [
    {
     "name": "stdout",
     "output_type": "stream",
     "text": [
      "[[56860     4]\n",
      " [   97     1]]\n",
      "The accuracy is 0.9982268881008391\n",
      "The precision is 0.2\n",
      "The recall is 0.01020408163265306\n",
      "The F1-Score is 0.019417475728155335\n"
     ]
    }
   ],
   "source": [
    "conf_mx = confusion_matrix(y_test,y_pred)\n",
    "print(conf_mx)\n",
    "acc= accuracy_score(y_test,y_pred)\n",
    "print('The accuracy is {}'.format(acc))\n",
    "prec= precision_score(y_test,y_pred)\n",
    "print('The precision is {}'.format(prec))\n",
    "rec= recall_score(y_test,y_pred)\n",
    "print('The recall is {}'.format(rec))\n",
    "f1= f1_score(y_test,y_pred)\n",
    "print('The F1-Score is {}'.format(f1))"
   ]
  },
  {
   "cell_type": "markdown",
   "metadata": {},
   "source": [
    "RANDOM OVERSAMPLING TECHNIQUE\n",
    "--"
   ]
  },
  {
   "cell_type": "code",
   "execution_count": 21,
   "metadata": {},
   "outputs": [],
   "source": [
    "from imblearn.over_sampling import RandomOverSampler"
   ]
  },
  {
   "cell_type": "code",
   "execution_count": 22,
   "metadata": {
    "scrolled": true
   },
   "outputs": [
    {
     "name": "stdout",
     "output_type": "stream",
     "text": [
      "X_train -  (227845, 30)\n",
      "y_train -  (227845,)\n",
      "X_test -  (56962, 30)\n",
      "y_test -  (56962,)\n"
     ]
    }
   ],
   "source": [
    "X_train, X_test, y_train, y_test = train_test_split(X_data, y_data, test_size=0.2, shuffle=True, random_state=42)\n",
    "print(\"X_train - \",X_train.shape)\n",
    "print(\"y_train - \",y_train.shape)\n",
    "print(\"X_test - \",X_test.shape)\n",
    "print(\"y_test - \",y_test.shape)"
   ]
  },
  {
   "cell_type": "code",
   "execution_count": 23,
   "metadata": {},
   "outputs": [
    {
     "name": "stdout",
     "output_type": "stream",
     "text": [
      "Original dataset shape Counter({0: 227451, 1: 394})\n",
      "Resampled dataset shape Counter({0: 227451, 1: 227451})\n",
      "X_train -  (454902, 30)\n",
      "y_train -  (454902,)\n",
      "X_test -  (56962, 30)\n",
      "y_test -  (56962,)\n"
     ]
    }
   ],
   "source": [
    "# Oversampling only on train\n",
    "\n",
    "print('Original dataset shape %s' % Counter(y_train))\n",
    "random_state = 42\n",
    "\n",
    "ros = RandomOverSampler(random_state=random_state)\n",
    "X_res, y_res = ros.fit_resample(X_train, y_train)\n",
    "\n",
    "print('Resampled dataset shape %s' % Counter(y_res))\n",
    "\n",
    "X_train = X_res\n",
    "y_train = y_res\n",
    "\n",
    "print(\"X_train - \",X_train.shape)\n",
    "print(\"y_train - \",y_train.shape)\n",
    "print(\"X_test - \",X_test.shape)\n",
    "print(\"y_test - \",y_test.shape)"
   ]
  },
  {
   "cell_type": "code",
   "execution_count": 24,
   "metadata": {},
   "outputs": [
    {
     "name": "stdout",
     "output_type": "stream",
     "text": [
      "147\n"
     ]
    }
   ],
   "source": [
    "#Over Sampling with Isolation Forest\n",
    "model = IsolationForest(max_samples=len(X_train),contamination=outlier_fraction,random_state=1)\n",
    "model.fit(X_train,y_train)\n",
    "scores1_pred = model.decision_function(X_train)\n",
    "y_pred = model.predict(X_test)\n",
    "# Reshape the prediction values to 0 for valid, 1 for fraud. \n",
    "y_pred[y_pred == 1] = 0\n",
    "y_pred[y_pred == -1] = 1\n",
    "errors = (y_pred != y_test).sum()\n",
    "print(errors)"
   ]
  },
  {
   "cell_type": "code",
   "execution_count": 25,
   "metadata": {},
   "outputs": [
    {
     "name": "stdout",
     "output_type": "stream",
     "text": [
      "[[56813    51]\n",
      " [   96     2]]\n"
     ]
    },
    {
     "data": {
      "image/png": "[encoded data removed]",
      "text/plain": [
       "<Figure size 360x360 with 2 Axes>"
      ]
     },
     "metadata": {
      "needs_background": "light"
     },
     "output_type": "display_data"
    }
   ],
   "source": [
    "#Visualization of Confusion matrix\n",
    "LABELS = ['Genuine', 'Fraud']\n",
    "conf_matrix = confusion_matrix(y_test, y_pred)\n",
    "print(conf_matrix)\n",
    "plt.figure(figsize=(5, 5))\n",
    "sns.heatmap(conf_matrix, xticklabels=LABELS, yticklabels=LABELS, annot=True, fmt='d');\n",
    "plt.title('OverSampling - Confusion matrix')\n",
    "plt.ylabel('True class')\n",
    "plt.xlabel('Predicted class')\n",
    "plt.show()"
   ]
  },
  {
   "cell_type": "code",
   "execution_count": 26,
   "metadata": {},
   "outputs": [
    {
     "name": "stdout",
     "output_type": "stream",
     "text": [
      "[[56813    51]\n",
      " [   96     2]]\n",
      "The accuracy is 0.9974193321863699\n",
      "The precision is 0.03773584905660377\n",
      "The recall is 0.02040816326530612\n",
      "The F1-Score is 0.02649006622516556\n"
     ]
    }
   ],
   "source": [
    "conf_mx = confusion_matrix(y_test,y_pred)\n",
    "print(conf_mx)\n",
    "acc= accuracy_score(y_test,y_pred)\n",
    "print('The accuracy is {}'.format(acc))\n",
    "prec= precision_score(y_test,y_pred)\n",
    "print('The precision is {}'.format(prec))\n",
    "rec= recall_score(y_test,y_pred)\n",
    "print('The recall is {}'.format(rec))\n",
    "f1= f1_score(y_test,y_pred)\n",
    "print('The F1-Score is {}'.format(f1))"
   ]
  },
  {
   "cell_type": "markdown",
   "metadata": {},
   "source": [
    "SMOTE TECHNIQUE\n",
    "------------------------------------------------------------------------\n"
   ]
  },
  {
   "cell_type": "code",
   "execution_count": 27,
   "metadata": {},
   "outputs": [],
   "source": [
    "from imblearn.over_sampling import SMOTE, ADASYN"
   ]
  },
  {
   "cell_type": "code",
   "execution_count": 28,
   "metadata": {},
   "outputs": [
    {
     "name": "stdout",
     "output_type": "stream",
     "text": [
      "X_train -  (227845, 30)\n",
      "y_train -  (227845,)\n",
      "X_test -  (56962, 30)\n",
      "y_test -  (56962,)\n"
     ]
    }
   ],
   "source": [
    "X_train, X_test, y_train, y_test = train_test_split(X_data, y_data, test_size=0.2, shuffle=True, random_state=42)\n",
    "print(\"X_train - \",X_train.shape)\n",
    "print(\"y_train - \",y_train.shape)\n",
    "print(\"X_test - \",X_test.shape)\n",
    "print(\"y_test - \",y_test.shape)"
   ]
  },
  {
   "cell_type": "code",
   "execution_count": 29,
   "metadata": {},
   "outputs": [
    {
     "name": "stdout",
     "output_type": "stream",
     "text": [
      "Original dataset shape Counter({0: 227451, 1: 394})\n",
      "Resampled dataset shape Counter({0: 227451, 1: 227451})\n",
      "X_train -  (454902, 30)\n",
      "y_train -  (454902,)\n",
      "X_test -  (56962, 30)\n",
      "y_test -  (56962,)\n"
     ]
    }
   ],
   "source": [
    "#SMOTE on train dataset\n",
    "print('Original dataset shape %s' % Counter(y_train))\n",
    "random_state = 42\n",
    "\n",
    "smote = SMOTE(random_state=42)\n",
    "X_res, y_res = smote.fit_resample(X_train, y_train)\n",
    "\n",
    "print('Resampled dataset shape %s' % Counter(y_res))\n",
    "\n",
    "X_train = X_res\n",
    "y_train = y_res\n",
    "\n",
    "print(\"X_train - \",X_train.shape)\n",
    "print(\"y_train - \",y_train.shape)\n",
    "print(\"X_test - \",X_test.shape)\n",
    "print(\"y_test - \",y_test.shape)"
   ]
  },
  {
   "cell_type": "code",
   "execution_count": 30,
   "metadata": {},
   "outputs": [
    {
     "name": "stdout",
     "output_type": "stream",
     "text": [
      "157\n"
     ]
    }
   ],
   "source": [
    "model = IsolationForest(max_samples=len(X_train),contamination=outlier_fraction,random_state=1)\n",
    "model.fit(X_train,y_train)\n",
    "scores1_pred = model.decision_function(X_train)\n",
    "y_pred = model.predict(X_test)\n",
    "# Reshape the prediction values to 0 for valid, 1 for fraud. \n",
    "y_pred[y_pred == 1] = 0\n",
    "y_pred[y_pred == -1] = 1\n",
    "errors = (y_pred != y_test).sum()\n",
    "print(errors)"
   ]
  },
  {
   "cell_type": "code",
   "execution_count": 31,
   "metadata": {},
   "outputs": [
    {
     "name": "stdout",
     "output_type": "stream",
     "text": [
      "[[56803    61]\n",
      " [   96     2]]\n"
     ]
    },
    {
     "data": {
      "image/png": "[encoded data removed]",
      "text/plain": [
       "<Figure size 360x360 with 2 Axes>"
      ]
     },
     "metadata": {
      "needs_background": "light"
     },
     "output_type": "display_data"
    }
   ],
   "source": [
    "#Visualization of Confusion matrix\n",
    "LABELS = ['Genuine', 'Fraud']\n",
    "conf_matrix = confusion_matrix(y_test, y_pred)\n",
    "print(conf_matrix)\n",
    "plt.figure(figsize=(5, 5))\n",
    "sns.heatmap(conf_matrix, xticklabels=LABELS, yticklabels=LABELS, annot=True, fmt='d');\n",
    "plt.title('SMOTE - Confusion matrix')\n",
    "plt.ylabel('True class')\n",
    "plt.xlabel('Predicted class')\n",
    "plt.show()"
   ]
  },
  {
   "cell_type": "code",
   "execution_count": 32,
   "metadata": {},
   "outputs": [
    {
     "name": "stdout",
     "output_type": "stream",
     "text": [
      "[[56803    61]\n",
      " [   96     2]]\n",
      "The accuracy is 0.9972437765527896\n",
      "The precision is 0.031746031746031744\n",
      "The recall is 0.02040816326530612\n",
      "The F1-Score is 0.024844720496894408\n"
     ]
    }
   ],
   "source": [
    "conf_mx = confusion_matrix(y_test,y_pred)\n",
    "print(conf_mx)\n",
    "acc= accuracy_score(y_test,y_pred)\n",
    "print('The accuracy is {}'.format(acc))\n",
    "prec= precision_score(y_test,y_pred)\n",
    "print('The precision is {}'.format(prec))\n",
    "rec= recall_score(y_test,y_pred)\n",
    "print('The recall is {}'.format(rec))\n",
    "f1= f1_score(y_test,y_pred)\n",
    "print('The F1-Score is {}'.format(f1))"
   ]
  },
  {
   "cell_type": "markdown",
   "metadata": {},
   "source": [
    "ADASYN TECHNIQUE\n",
    "--"
   ]
  },
  {
   "cell_type": "code",
   "execution_count": 33,
   "metadata": {},
   "outputs": [
    {
     "name": "stdout",
     "output_type": "stream",
     "text": [
      "X_train -  (227845, 30)\n",
      "y_train -  (227845,)\n",
      "X_test -  (56962, 30)\n",
      "y_test -  (56962,)\n"
     ]
    }
   ],
   "source": [
    "X_train, X_test, y_train, y_test = train_test_split(X_data, y_data, test_size=0.2, shuffle=True, random_state=42)\n",
    "print(\"X_train - \",X_train.shape)\n",
    "print(\"y_train - \",y_train.shape)\n",
    "print(\"X_test - \",X_test.shape)\n",
    "print(\"y_test - \",y_test.shape)"
   ]
  },
  {
   "cell_type": "code",
   "execution_count": 34,
   "metadata": {},
   "outputs": [
    {
     "name": "stdout",
     "output_type": "stream",
     "text": [
      "Original dataset shape Counter({0: 227451, 1: 394})\n",
      "Resampled dataset shape Counter({0: 227451, 1: 227373})\n",
      "X_train -  (454824, 30)\n",
      "y_train -  (454824,)\n",
      "X_test -  (56962, 30)\n",
      "y_test -  (56962,)\n"
     ]
    }
   ],
   "source": [
    "#ADASYN on train dataset\n",
    "print('Original dataset shape %s' % Counter(y_train))\n",
    "random_state = 42\n",
    "\n",
    "adasyn = ADASYN(random_state=42)\n",
    "X_res, y_res = adasyn.fit_resample(X_train, y_train)\n",
    "\n",
    "print('Resampled dataset shape %s' % Counter(y_res))\n",
    "\n",
    "X_train = X_res\n",
    "y_train = y_res\n",
    "\n",
    "print(\"X_train - \",X_train.shape)\n",
    "print(\"y_train - \",y_train.shape)\n",
    "print(\"X_test - \",X_test.shape)\n",
    "print(\"y_test - \",y_test.shape)"
   ]
  },
  {
   "cell_type": "code",
   "execution_count": 35,
   "metadata": {},
   "outputs": [
    {
     "name": "stdout",
     "output_type": "stream",
     "text": [
      "152\n"
     ]
    }
   ],
   "source": [
    "model = IsolationForest(max_samples=len(X_train),contamination=outlier_fraction,random_state=1)\n",
    "model.fit(X_train,y_train)\n",
    "scores1_pred = model.decision_function(X_train)\n",
    "y_pred = model.predict(X_test)\n",
    "# Reshape the prediction values to 0 for valid, 1 for fraud. \n",
    "y_pred[y_pred == 1] = 0\n",
    "y_pred[y_pred == -1] = 1\n",
    "errors = (y_pred != y_test).sum()\n",
    "print(errors)"
   ]
  },
  {
   "cell_type": "code",
   "execution_count": 36,
   "metadata": {},
   "outputs": [
    {
     "name": "stdout",
     "output_type": "stream",
     "text": [
      "[[56807    57]\n",
      " [   95     3]]\n"
     ]
    },
    {
     "data": {
      "image/png": "[encoded data removed]",
      "text/plain": [
       "<Figure size 360x360 with 2 Axes>"
      ]
     },
     "metadata": {
      "needs_background": "light"
     },
     "output_type": "display_data"
    }
   ],
   "source": [
    "#Visualization of Confusion matrix\n",
    "LABELS = ['Genuine', 'Fraud']\n",
    "conf_matrix = confusion_matrix(y_test, y_pred)\n",
    "print(conf_matrix)\n",
    "plt.figure(figsize=(5, 5))\n",
    "sns.heatmap(conf_matrix, xticklabels=LABELS, yticklabels=LABELS, annot=True, fmt='d');\n",
    "plt.title('SMOTE - Confusion matrix')\n",
    "plt.ylabel('True class')\n",
    "plt.xlabel('Predicted class')\n",
    "plt.show()"
   ]
  },
  {
   "cell_type": "code",
   "execution_count": 37,
   "metadata": {
    "scrolled": true
   },
   "outputs": [
    {
     "name": "stdout",
     "output_type": "stream",
     "text": [
      "[[56807    57]\n",
      " [   95     3]]\n",
      "The accuracy is 0.9973315543695798\n",
      "The precision is 0.05\n",
      "The recall is 0.030612244897959183\n",
      "The F1-Score is 0.037974683544303806\n"
     ]
    }
   ],
   "source": [
    "conf_mx = confusion_matrix(y_test,y_pred)\n",
    "print(conf_mx)\n",
    "acc= accuracy_score(y_test,y_pred)\n",
    "print('The accuracy is {}'.format(acc))\n",
    "prec= precision_score(y_test,y_pred)\n",
    "print('The precision is {}'.format(prec))\n",
    "rec= recall_score(y_test,y_pred)\n",
    "print('The recall is {}'.format(rec))\n",
    "f1= f1_score(y_test,y_pred)\n",
    "print('The F1-Score is {}'.format(f1))"
   ]
  },
  {
   "cell_type": "markdown",
   "metadata": {},
   "source": [
    "HYBRID SAMPLING\n",
    "---"
   ]
  },
  {
   "cell_type": "code",
   "execution_count": 48,
   "metadata": {},
   "outputs": [
    {
     "name": "stdout",
     "output_type": "stream",
     "text": [
      "Original dataset shape Counter({0: 227451, 1: 394})\n",
      "Resampled dataset shape Counter({0: 227451, 1: 227451})\n",
      "Resampled dataset shape Counter({0: 227451, 1: 227451})\n",
      "147\n"
     ]
    }
   ],
   "source": [
    "\n",
    "X_train, X_test, y_train, y_test = train_test_split(X_data, y_data, test_size=0.2, shuffle=True, random_state=42)\n",
    "print('Original dataset shape %s' % Counter(y_train))\n",
    "\n",
    "ros = RandomOverSampler(random_state=random_state)\n",
    "X_res, y_res = ros.fit_resample(X_train, y_train)\n",
    "\n",
    "print('Resampled dataset shape %s' % Counter(y_res))\n",
    "\n",
    "X_train = X_res\n",
    "y_train = y_res\n",
    "\n",
    "rus = RandomUnderSampler(random_state=random_state)\n",
    "X_res, y_res = rus.fit_resample(X_train, y_train)\n",
    "\n",
    "print('Resampled dataset shape %s' % Counter(y_res))\n",
    "\n",
    "X_train = X_res\n",
    "y_train = y_res\n",
    "\n",
    "model = IsolationForest(max_samples=len(X_train),contamination=outlier_fraction,random_state=1)\n",
    "model.fit(X_train,y_train)\n",
    "scores1_pred = model.decision_function(X_train)\n",
    "y_pred = model.predict(X_test)\n",
    "# Reshape the prediction values to 0 for valid, 1 for fraud. \n",
    "y_pred[y_pred == 1] = 0\n",
    "y_pred[y_pred == -1] = 1\n",
    "errors = (y_pred != y_test).sum()\n",
    "print(errors)"
   ]
  },
  {
   "cell_type": "code",
   "execution_count": 49,
   "metadata": {},
   "outputs": [
    {
     "name": "stdout",
     "output_type": "stream",
     "text": [
      "[[56813    51]\n",
      " [   96     2]]\n"
     ]
    },
    {
     "data": {
      "image/png": "[encoded data removed]",
      "text/plain": [
       "<Figure size 360x360 with 2 Axes>"
      ]
     },
     "metadata": {
      "needs_background": "light"
     },
     "output_type": "display_data"
    }
   ],
   "source": [
    "#Visualization of Confusion matrix\n",
    "LABELS = ['Genuine', 'Fraud']\n",
    "conf_matrix = confusion_matrix(y_test, y_pred)\n",
    "print(conf_matrix)\n",
    "plt.figure(figsize=(5, 5))\n",
    "sns.heatmap(conf_matrix, xticklabels=LABELS, yticklabels=LABELS, annot=True, fmt='d');\n",
    "plt.title('Hybrid Sampling - Confusion matrix')\n",
    "plt.ylabel('True class')\n",
    "plt.xlabel('Predicted class')\n",
    "plt.show()"
   ]
  },
  {
   "cell_type": "code",
   "execution_count": 46,
   "metadata": {},
   "outputs": [
    {
     "name": "stdout",
     "output_type": "stream",
     "text": [
      "[[56813    51]\n",
      " [   96     2]]\n",
      "The accuracy is 0.9974193321863699\n",
      "The precision is 0.03773584905660377\n",
      "The recall is 0.02040816326530612\n",
      "The F1-Score is 0.02649006622516556\n"
     ]
    }
   ],
   "source": [
    "conf_mx = confusion_matrix(y_test,y_pred)\n",
    "print(conf_mx)\n",
    "acc= accuracy_score(y_test,y_pred)\n",
    "print('The accuracy is {}'.format(acc))\n",
    "prec= precision_score(y_test,y_pred)\n",
    "print('The precision is {}'.format(prec))\n",
    "rec= recall_score(y_test,y_pred)\n",
    "print('The recall is {}'.format(rec))\n",
    "f1= f1_score(y_test,y_pred)\n",
    "print('The F1-Score is {}'.format(f1))"
   ]
  }
 ],
 "metadata": {
  "kernelspec": {
   "display_name": "Python 3",
   "language": "python",
   "name": "python3"
  },
  "language_info": {
   "codemirror_mode": {
    "name": "ipython",
    "version": 3
   },
   "file_extension": ".py",
   "mimetype": "text/x-python",
   "name": "python",
   "nbconvert_exporter": "python",
   "pygments_lexer": "ipython3",
   "version": "3.7.3"
  }
 },
 "nbformat": 4,
 "nbformat_minor": 2
}
